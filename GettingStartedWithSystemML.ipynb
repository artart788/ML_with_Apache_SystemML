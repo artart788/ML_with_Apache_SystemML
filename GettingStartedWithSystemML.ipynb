{
 "cells": [
  {
   "cell_type": "markdown",
   "metadata": {},
   "source": [
    "### Getting started with SystemML"
   ]
  },
  {
   "cell_type": "markdown",
   "metadata": {},
   "source": [
    "Exercise objectives:\n",
    "- Load the SystemML library\n",
    "- Run basic SystemML code"
   ]
  },
  {
   "cell_type": "markdown",
   "metadata": {},
   "source": [
    "Load the SystemML.jar from the sparktc.ibmcloud site\n"
   ]
  },
  {
   "cell_type": "code",
   "execution_count": 1,
   "metadata": {
    "collapsed": false
   },
   "outputs": [
    {
     "name": "stdout",
     "output_type": "stream",
     "text": [
      "Starting download from https://sparktc.ibmcloud.com/repo/latest/SystemML.jar\n",
      "Finished download of SystemML.jar\n"
     ]
    }
   ],
   "source": [
    "%AddJar https://sparktc.ibmcloud.com/repo/latest/SystemML.jar"
   ]
  },
  {
   "cell_type": "code",
   "execution_count": null,
   "metadata": {
    "collapsed": true
   },
   "outputs": [],
   "source": []
  },
  {
   "cell_type": "markdown",
   "metadata": {},
   "source": [
    "Import the MLContext from the SystemML API. MLContext is where you will be able to interact with SystemML. Lesson 2 will explain MLContext in more details. For now, you will just import and use the API from it."
   ]
  },
  {
   "cell_type": "code",
   "execution_count": 2,
   "metadata": {
    "collapsed": false
   },
   "outputs": [],
   "source": [
    "import org.apache.sysml.api.MLContext"
   ]
  },
  {
   "cell_type": "markdown",
   "metadata": {},
   "source": [
    "Import the SQLContext to use some of its capabilites. This SQLContext library comes from the Apache Spark library."
   ]
  },
  {
   "cell_type": "code",
   "execution_count": 3,
   "metadata": {
    "collapsed": true
   },
   "outputs": [],
   "source": [
    "import org.apache.spark.sql.SQLContext"
   ]
  },
  {
   "cell_type": "markdown",
   "metadata": {},
   "source": [
    "Now, create the SQLContext from the SparkContext, which is initilized by default for you in this notebook environment as the variable `sc`. Pass the `sc` variable into the SQLContext constructor to create the `sqlCtx` variable."
   ]
  },
  {
   "cell_type": "code",
   "execution_count": 4,
   "metadata": {
    "collapsed": true
   },
   "outputs": [],
   "source": [
    "val sqlCtx = new SQLContext(sc)"
   ]
  },
  {
   "cell_type": "markdown",
   "metadata": {},
   "source": [
    "Now do the same and create the MLContext variable from the SparkContext"
   ]
  },
  {
   "cell_type": "code",
   "execution_count": 5,
   "metadata": {
    "collapsed": true
   },
   "outputs": [],
   "source": [
    "val ml = new MLContext(sc)"
   ]
  },
  {
   "cell_type": "markdown",
   "metadata": {},
   "source": [
    "Now is where we start to get into the SystemML work. Let's create a variable called dml. In the machine learning space, dml is an acronym for Declarative Machine Learning. DMLs will be covered in greater detail in a future lesson, but the idea is that the DML scripts stores all the actual code for the algorithms in a script. You can then use SystemML to run DML scripts, which is what we're going to do here."
   ]
  },
  {
   "cell_type": "code",
   "execution_count": 6,
   "metadata": {
    "collapsed": true
   },
   "outputs": [],
   "source": [
    "val dml = \"\"\"\n",
    "X = rand(rows=100, cols=10)\n",
    "sumX = sum(X)\n",
    "outMatrix = matrix(sumX, rows=1, cols=1)\n",
    "write(outMatrix, \" \", format=\"csv\")\n",
    "\"\"\""
   ]
  },
  {
   "cell_type": "markdown",
   "metadata": {},
   "source": [
    "So there's really no magic here. The first line creates a matrix of random values with 100 rows and 10 columns. The second line add up all columns of X. The third line convert that sum result into a matrix itself of 1 row and 1 column. Finally, write that out to a csv file."
   ]
  },
  {
   "cell_type": "markdown",
   "metadata": {},
   "source": [
    "Register the output variable."
   ]
  },
  {
   "cell_type": "code",
   "execution_count": 7,
   "metadata": {
    "collapsed": true
   },
   "outputs": [],
   "source": [
    "ml.reset()\n",
    "ml.registerOutput(\"outMatrix\")"
   ]
  },
  {
   "cell_type": "markdown",
   "metadata": {},
   "source": [
    "Execute the script"
   ]
  },
  {
   "cell_type": "code",
   "execution_count": 8,
   "metadata": {
    "collapsed": false
   },
   "outputs": [],
   "source": [
    "val out = ml.executeScript(dml)"
   ]
  },
  {
   "cell_type": "markdown",
   "metadata": {},
   "source": [
    "Get the outputMatrix"
   ]
  },
  {
   "cell_type": "code",
   "execution_count": 9,
   "metadata": {
    "collapsed": true
   },
   "outputs": [],
   "source": [
    "val outMatrix = out.getDF(sqlCtx, \"outMatrix\")"
   ]
  },
  {
   "cell_type": "markdown",
   "metadata": {},
   "source": [
    "Print the matrix"
   ]
  },
  {
   "cell_type": "code",
   "execution_count": 10,
   "metadata": {
    "collapsed": false
   },
   "outputs": [
    {
     "name": "stdout",
     "output_type": "stream",
     "text": [
      "+-------+-----------------+\n",
      "|__INDEX|               C1|\n",
      "+-------+-----------------+\n",
      "|    1.0|515.3344684572643|\n",
      "+-------+-----------------+\n",
      "\n"
     ]
    }
   ],
   "source": [
    "outMatrix.show"
   ]
  },
  {
   "cell_type": "markdown",
   "metadata": {
    "collapsed": true
   },
   "source": [
    "So this just basically tells us that the sum of this randomly generated matrix is the value in the C1 column. "
   ]
  },
  {
   "cell_type": "markdown",
   "metadata": {},
   "source": [
    "This concludes this exercise. You were able to load and run with some basic SystemML libraries. In later exercises, you'll see more around this."
   ]
  },
  {
   "cell_type": "markdown",
   "metadata": {},
   "source": []
  },
  {
   "cell_type": "markdown",
   "metadata": {},
   "source": [
    "Then, click on import note to import by URL and provide this URL https://raw.githubusercontent.com/apache/incubator-systemml/master/samples/zeppelin-notebooks/2BCHR4T1Q/note.json"
   ]
  },
  {
   "cell_type": "markdown",
   "metadata": {},
   "source": [
    "<img src = \"https://ibm.box.com/shared/static/26zavdwas97lyb94pmivkjhdzl00rzgl.png\" width='367', height='333' align = 'left' />"
   ]
  },
  {
   "cell_type": "markdown",
   "metadata": {},
   "source": [
    "Once the notebook has been imported, open it by clicking on NYC-311 from the list of recent notebooks in Zeppelin. That notebook is based on a really large dataset (6.7GB CSV file). I would recommend you change that path to a subset of the data that I've hosted here: https://ibm.box.com/shared/static/j8xx1smlz0t49mzlev6ue6xjjcp4c5tc.csv"
   ]
  },
  {
   "cell_type": "code",
   "execution_count": null,
   "metadata": {
    "collapsed": true
   },
   "outputs": [],
   "source": []
  }
 ],
 "metadata": {
  "kernelspec": {
   "display_name": "Scala 2.10.4",
   "language": "scala",
   "name": "spark"
  },
  "language_info": {
   "name": "scala"
  },
  "widgets": {
   "state": {},
   "version": "1.1.2"
  }
 },
 "nbformat": 4,
 "nbformat_minor": 0
}
