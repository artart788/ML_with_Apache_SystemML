### Getting started with SystemML

```py
%AddJar https://sparktc.ibmcloud.com/repo/latest/SystemML.jar

```
