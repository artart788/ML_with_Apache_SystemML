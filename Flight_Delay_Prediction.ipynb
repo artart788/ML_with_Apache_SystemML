{
 "cells": [
  {
   "cell_type": "markdown",
   "metadata": {},
   "source": [
    "# Flight Delay Prediction Using Apache SystemML"
   ]
  },
  {
   "cell_type": "markdown",
   "metadata": {},
   "source": [
    "## Loading SystemML"
   ]
  },
  {
   "cell_type": "code",
   "execution_count": 1,
   "metadata": {
    "collapsed": false
   },
   "outputs": [
    {
     "name": "stdout",
     "output_type": "stream",
     "text": [
      ":: loading settings :: url = jar:file:/usr/local/spark-kernel/lib/ivy-2.4.0.jar!/org/apache/ivy/core/settings/ivysettings.xml\n",
      ":: resolving dependencies :: com.ibm.spark#spark-kernel;working [not transitive]\n",
      "\tconfs: [default]\n",
      "\tfound org.apache.systemml#systemml;0.10.0-incubating in central\n",
      ":: resolution report :: resolve 140ms :: artifacts dl 5ms\n",
      "\t:: modules in use:\n",
      "\torg.apache.systemml#systemml;0.10.0-incubating from central in [default]\n",
      "\t---------------------------------------------------------------------\n",
      "\t|                  |            modules            ||   artifacts   |\n",
      "\t|       conf       | number| search|dwnlded|evicted|| number|dwnlded|\n",
      "\t---------------------------------------------------------------------\n",
      "\t|      default     |   1   |   0   |   0   |   0   ||   1   |   0   |\n",
      "\t---------------------------------------------------------------------\n",
      ":: retrieving :: com.ibm.spark#spark-kernel\n",
      "\tconfs: [default]\n",
      "\t0 artifacts copied, 1 already retrieved (0kB/6ms)\n"
     ]
    }
   ],
   "source": [
    "%AddDeps org.apache.systemml systemml 0.10.0-incubating"
   ]
  },
  {
   "cell_type": "markdown",
   "metadata": {},
   "source": [
    "Use Spark's CSV package for loading the CSV file"
   ]
  },
  {
   "cell_type": "code",
   "execution_count": 2,
   "metadata": {
    "collapsed": false
   },
   "outputs": [
    {
     "name": "stdout",
     "output_type": "stream",
     "text": [
      ":: resolving dependencies :: com.ibm.spark#spark-kernel;working [not transitive]\n",
      "\tconfs: [default]\n",
      "\tfound com.databricks#spark-csv_2.10;1.4.0 in central\n",
      ":: resolution report :: resolve 37ms :: artifacts dl 5ms\n",
      "\t:: modules in use:\n",
      "\tcom.databricks#spark-csv_2.10;1.4.0 from central in [default]\n",
      "\t---------------------------------------------------------------------\n",
      "\t|                  |            modules            ||   artifacts   |\n",
      "\t|       conf       | number| search|dwnlded|evicted|| number|dwnlded|\n",
      "\t---------------------------------------------------------------------\n",
      "\t|      default     |   1   |   0   |   0   |   0   ||   1   |   0   |\n",
      "\t---------------------------------------------------------------------\n",
      ":: retrieving :: com.ibm.spark#spark-kernel\n",
      "\tconfs: [default]\n",
      "\t0 artifacts copied, 1 already retrieved (0kB/3ms)\n"
     ]
    }
   ],
   "source": [
    "%AddDeps com.databricks spark-csv_2.10 1.4.0"
   ]
  },
  {
   "cell_type": "markdown",
   "metadata": {
    "collapsed": true
   },
   "source": [
    "## Import Data"
   ]
  },
  {
   "cell_type": "markdown",
   "metadata": {},
   "source": [
    "Download the airline dataset from stat-computing.org if not already downloaded"
   ]
  },
  {
   "cell_type": "code",
   "execution_count": 3,
   "metadata": {
    "collapsed": false
   },
   "outputs": [],
   "source": [
    "import sys.process._\n",
    "import java.net.URL\n",
    "import java.io.File\n",
    "val url = \"http://stat-computing.org/dataexpo/2009/2007.csv.bz2\"\n",
    "val localFilePath = \"airline2007.csv.bz2\"\n",
    "if(!new java.io.File(localFilePath).exists) {\n",
    "    new URL(url) #> new File(localFilePath) !!\n",
    "}"
   ]
  },
  {
   "cell_type": "markdown",
   "metadata": {},
   "source": [
    "Load the dataset into DataFrame using Spark CSV package"
   ]
  },
  {
   "cell_type": "code",
   "execution_count": 4,
   "metadata": {
    "collapsed": false
   },
   "outputs": [],
   "source": [
    "import org.apache.spark.sql.SQLContext\n",
    "import org.apache.spark.storage.StorageLevel\n",
    "val sqlContext = new SQLContext(sc)\n",
    "val fmt = sqlContext.read.format(\"com.databricks.spark.csv\")\n",
    "val opt = fmt.options(Map(\"header\"->\"true\", \"inferSchema\"->\"true\"))\n",
    "val airline = opt.load(localFilePath).na.replace( \"*\", Map(\"NA\" -> \"0.0\") )"
   ]
  },
  {
   "cell_type": "code",
   "execution_count": 5,
   "metadata": {
    "collapsed": false
   },
   "outputs": [
    {
     "name": "stdout",
     "output_type": "stream",
     "text": [
      "root\n",
      " |-- Year: integer (nullable = true)\n",
      " |-- Month: integer (nullable = true)\n",
      " |-- DayofMonth: integer (nullable = true)\n",
      " |-- DayOfWeek: integer (nullable = true)\n",
      " |-- DepTime: string (nullable = true)\n",
      " |-- CRSDepTime: integer (nullable = true)\n",
      " |-- ArrTime: string (nullable = true)\n",
      " |-- CRSArrTime: integer (nullable = true)\n",
      " |-- UniqueCarrier: string (nullable = true)\n",
      " |-- FlightNum: integer (nullable = true)\n",
      " |-- TailNum: string (nullable = true)\n",
      " |-- ActualElapsedTime: string (nullable = true)\n",
      " |-- CRSElapsedTime: string (nullable = true)\n",
      " |-- AirTime: string (nullable = true)\n",
      " |-- ArrDelay: string (nullable = true)\n",
      " |-- DepDelay: string (nullable = true)\n",
      " |-- Origin: string (nullable = true)\n",
      " |-- Dest: string (nullable = true)\n",
      " |-- Distance: integer (nullable = true)\n",
      " |-- TaxiIn: integer (nullable = true)\n",
      " |-- TaxiOut: integer (nullable = true)\n",
      " |-- Cancelled: integer (nullable = true)\n",
      " |-- CancellationCode: string (nullable = true)\n",
      " |-- Diverted: integer (nullable = true)\n",
      " |-- CarrierDelay: integer (nullable = true)\n",
      " |-- WeatherDelay: integer (nullable = true)\n",
      " |-- NASDelay: integer (nullable = true)\n",
      " |-- SecurityDelay: integer (nullable = true)\n",
      " |-- LateAircraftDelay: integer (nullable = true)\n",
      "\n"
     ]
    }
   ],
   "source": [
    "airline.printSchema"
   ]
  },
  {
   "cell_type": "markdown",
   "metadata": {},
   "source": [
    "## Data Exploration\n",
    "Let's find out which airports have the most delays?"
   ]
  },
  {
   "cell_type": "code",
   "execution_count": 6,
   "metadata": {
    "collapsed": false
   },
   "outputs": [
    {
     "name": "stdout",
     "output_type": "stream",
     "text": [
      "+------+---------+------------------+\n",
      "|Origin|conFlight|             delay|\n",
      "+------+---------+------------------+\n",
      "|   PIR|        4|              45.5|\n",
      "|   ACK|      314|45.296178343949045|\n",
      "|   SOP|      195| 34.02051282051282|\n",
      "|   HHH|      997| 22.58776328986961|\n",
      "|   MCN|      992|22.496975806451612|\n",
      "|   AKN|      235|21.123404255319148|\n",
      "|   CEC|     1055|20.807582938388627|\n",
      "|   GNV|     1927| 20.69797612869746|\n",
      "|   EYW|     1052|20.224334600760457|\n",
      "|   ACY|      735|20.141496598639456|\n",
      "|   SPI|     1745|19.545558739255014|\n",
      "|   GST|       90|19.233333333333334|\n",
      "|   EWR|   154113|18.800853918877706|\n",
      "|   BRW|      726| 18.02754820936639|\n",
      "|   AGS|     2286|17.728346456692915|\n",
      "|   ORD|   375784|17.695756072637472|\n",
      "|   TRI|     1207| 17.63628831814416|\n",
      "|   SBN|     5128|17.505850234009362|\n",
      "|   FAY|     2185| 17.48970251716247|\n",
      "|   PHL|   103868| 17.09455270150576|\n",
      "+------+---------+------------------+\n",
      "only showing top 20 rows\n",
      "\n"
     ]
    }
   ],
   "source": [
    "airline.registerTempTable(\"airline\")\n",
    "sqlContext.sql(\"\"\"SELECT Origin, count(*) conFlight, avg(DepDelay) delay\n",
    "                    FROM airline\n",
    "                    GROUP BY Origin\n",
    "                    ORDER BY delay DESC\"\"\").show"
   ]
  },
  {
   "cell_type": "markdown",
   "metadata": {},
   "source": [
    "## Modeling: Logistic Regression\n",
    "\n",
    "Let's Predict departure delays of greater than 15 of flights from JFK"
   ]
  },
  {
   "cell_type": "code",
   "execution_count": 8,
   "metadata": {
    "collapsed": false
   },
   "outputs": [
    {
     "data": {
      "text/plain": [
       "35115"
      ]
     },
     "execution_count": 8,
     "metadata": {},
     "output_type": "execute_result"
    }
   ],
   "source": [
    "sqlContext.udf.register(\"checkDelay\", (depDelay:String) => try { if(depDelay.toDouble > 15) 1.0 else 2.0 } catch { case e:Exception => 1.0 })\n",
    "val tempSmallAirlineData = sqlContext.sql(\"SELECT *, checkDelay(DepDelay) label FROM airline WHERE Origin = 'JFK'\").persist(StorageLevel.MEMORY_AND_DISK)\n",
    "val popularDest = tempSmallAirlineData.select(\"Dest\").map(y => (y.get(0).toString, 1)).reduceByKey(_ + _).filter(_._2 > 1000).collect.toMap\n",
    "sqlContext.udf.register(\"onlyUsePopularDest\", (x:String) => popularDest.contains(x))\n",
    "tempSmallAirlineData.registerTempTable(\"tempAirline\")\n",
    "val smallAirlineData = sqlContext.sql(\"SELECT * FROM tempAirline WHERE onlyUsePopularDest(Dest)\")\n",
    "\n",
    "val datasets = smallAirlineData.randomSplit(Array(0.7, 0.3))\n",
    "val trainDataset = datasets(0).cache\n",
    "val testDataset = datasets(1).cache\n",
    "trainDataset.count\n",
    "testDataset.count"
   ]
  },
  {
   "cell_type": "markdown",
   "metadata": {},
   "source": [
    "### Feature selection"
   ]
  },
  {
   "cell_type": "markdown",
   "metadata": {},
   "source": [
    "Let's encode the destination using one-hot encoding and include the columns Year, Month, DayofMonth, DayOfWeek, and Distance as well"
   ]
  },
  {
   "cell_type": "code",
   "execution_count": 9,
   "metadata": {
    "collapsed": false
   },
   "outputs": [],
   "source": [
    "import org.apache.spark.ml.feature.{OneHotEncoder, StringIndexer, VectorAssembler}\n",
    "\n",
    "val indexer = new StringIndexer().setInputCol(\"Dest\").setOutputCol(\"DestIndex\") // .setHandleInvalid(\"skip\") // Only works on Spark 1.6 or later\n",
    "val encoder = new OneHotEncoder().setInputCol(\"DestIndex\").setOutputCol(\"DestVec\")\n",
    "val assembler = new VectorAssembler().setInputCols(Array(\"Year\",\"Month\",\"DayofMonth\",\"DayOfWeek\",\"Distance\",\"DestVec\")).setOutputCol(\"features\")"
   ]
  },
  {
   "cell_type": "markdown",
   "metadata": {},
   "source": [
    "### Let's Build the model: Using SystemML's MLPipeline wrapper. \n"
   ]
  },
  {
   "cell_type": "code",
   "execution_count": 10,
   "metadata": {
    "collapsed": false,
    "scrolled": true
   },
   "outputs": [
    {
     "name": "stdout",
     "output_type": "stream",
     "text": [
      "BEGIN MULTINOMIAL LOGISTIC REGRESSION SCRIPT\n",
      "Reading X...\n",
      "Reading Y...\n",
      "-- Initially:  Objective = 56196.214516717,  Gradient Norm = 4.4298224533061676E7,  Trust Delta = 0.001024586722033724\n",
      "-- Outer Iteration 1: Had 1 CG iterations\n",
      "   -- Obj.Reduction:  Actual = 9126.284435011527,  Predicted = 8784.320209556789  (A/P: 1.0389),  Trust Delta = 4.126637606584406E-4\n",
      "   -- New Objective = 47069.930081705475,  Beta Change Norm = 3.965992001779065E-4,  Gradient Norm = 3433643.5832106518\n",
      " \n",
      "-- Outer Iteration 2: Had 2 CG iterations\n",
      "   -- Obj.Reduction:  Actual = 104.7197148608102,  Predicted = 102.99000196732598  (A/P: 1.0168),  Trust Delta = 4.126637606584406E-4\n",
      "   -- New Objective = 46965.210366844665,  Beta Change Norm = 1.0262731974577981E-4,  Gradient Norm = 82609.96051937387\n",
      "Termination / Convergence condition satisfied.\n"
     ]
    }
   ],
   "source": [
    "import org.apache.spark.ml.Pipeline\n",
    "import org.apache.sysml.api.ml.LogisticRegression\n",
    "\n",
    "val lr = new LogisticRegression(\"log\", sc).setRegParam(1e-4).setTol(1e-2).setMaxInnerIter(0).setMaxOuterIter(100)\n",
    "\n",
    "val pipeline = new Pipeline().setStages(Array(indexer, encoder, assembler, lr))\n",
    "val model = pipeline.fit(trainDataset)"
   ]
  },
  {
   "cell_type": "markdown",
   "metadata": {},
   "source": [
    "### Evaluate the model \n",
    "\n",
    "Output RMS error on test data"
   ]
  },
  {
   "cell_type": "code",
   "execution_count": 11,
   "metadata": {
    "collapsed": false
   },
   "outputs": [
    {
     "name": "stdout",
     "output_type": "stream",
     "text": [
      "+----------+-------------+\n",
      "|prediction|OriginalLabel|\n",
      "+----------+-------------+\n",
      "|       1.0|          2.0|\n",
      "|       1.0|          2.0|\n",
      "|       1.0|          2.0|\n",
      "|       1.0|          2.0|\n",
      "|       1.0|          2.0|\n",
      "|       1.0|          2.0|\n",
      "|       1.0|          2.0|\n",
      "|       1.0|          2.0|\n",
      "|       1.0|          1.0|\n",
      "|       1.0|          1.0|\n",
      "|       1.0|          2.0|\n",
      "|       1.0|          1.0|\n",
      "|       1.0|          2.0|\n",
      "|       1.0|          2.0|\n",
      "|       1.0|          1.0|\n",
      "|       1.0|          2.0|\n",
      "|       1.0|          1.0|\n",
      "|       1.0|          2.0|\n",
      "|       1.0|          1.0|\n",
      "|       1.0|          2.0|\n",
      "+----------+-------------+\n",
      "only showing top 20 rows\n",
      "\n"
     ]
    },
    {
     "data": {
      "text/plain": [
       "UserDefinedFunction(<function1>,DoubleType,List())"
      ]
     },
     "execution_count": 11,
     "metadata": {},
     "output_type": "execute_result"
    }
   ],
   "source": [
    "val predictions = model.transform(testDataset.withColumnRenamed(\"label\", \"OriginalLabel\"))\n",
    "predictions.select(\"prediction\", \"OriginalLabel\").show\n",
    "sqlContext.udf.register(\"square\", (x:Double) => Math.pow(x, 2.0))"
   ]
  },
  {
   "cell_type": "code",
   "execution_count": 12,
   "metadata": {
    "collapsed": false
   },
   "outputs": [
    {
     "name": "stdout",
     "output_type": "stream",
     "text": [
      "+------------------+\n",
      "|               _c0|\n",
      "+------------------+\n",
      "|0.8573747235188472|\n",
      "+------------------+\n",
      "\n"
     ]
    }
   ],
   "source": [
    "predictions.registerTempTable(\"predictions\")\n",
    "sqlContext.sql(\"SELECT sqrt(avg(square(OriginalLabel - prediction))) FROM predictions\").show"
   ]
  },
  {
   "cell_type": "markdown",
   "metadata": {},
   "source": [
    "### Perform k-fold cross-validation to tune the hyperparameters\n",
    "\n",
    "Perform cross-validation to tune the regularization parameter for Logistic regression."
   ]
  },
  {
   "cell_type": "code",
   "execution_count": 13,
   "metadata": {
    "collapsed": false
   },
   "outputs": [
    {
     "name": "stdout",
     "output_type": "stream",
     "text": [
      "BEGIN MULTINOMIAL LOGISTIC REGRESSION SCRIPT\n",
      "Reading X...\n",
      "Reading Y...\n",
      "-- Initially:  Objective = 28068.301929594425,  Gradient Norm = 2.2008280854388464E7,  Trust Delta = 0.001024586722033724\n",
      "-- Outer Iteration 1: Had 1 CG iterations\n",
      "   -- Obj.Reduction:  Actual = 4521.557100765323,  Predicted = 4353.477350248426  (A/P: 1.0386),  Trust Delta = 4.115093750302585E-4\n",
      "   -- New Objective = 23546.7448288291,  Beta Change Norm = 3.9562175519768864E-4,  Gradient Norm = 1690157.626562086\n",
      "Termination / Convergence condition satisfied.\n",
      "BEGIN MULTINOMIAL LOGISTIC REGRESSION SCRIPT\n",
      "Reading X...\n",
      "Reading Y...\n",
      "-- Initially:  Objective = 28068.301929594425,  Gradient Norm = 2.2008280854388464E7,  Trust Delta = 0.001024586722033724\n",
      "-- Outer Iteration 1: Had 1 CG iterations\n",
      "   -- Obj.Reduction:  Actual = 4521.557100774226,  Predicted = 4353.477350256174  (A/P: 1.0386),  Trust Delta = 4.1150937503107494E-4\n",
      "   -- New Objective = 23546.7448288202,  Beta Change Norm = 3.9562175519839267E-4,  Gradient Norm = 1690157.6265700464\n",
      " \n",
      "-- Outer Iteration 2: Had 2 CG iterations\n",
      "   -- Obj.Reduction:  Actual = 50.07840685980409,  Predicted = 49.2736309344729  (A/P: 1.0163),  Trust Delta = 4.1150937503107494E-4\n",
      "   -- New Objective = 23496.666421960395,  Beta Change Norm = 9.951391151966148E-5,  Gradient Norm = 39531.08806078109\n",
      " \n",
      "-- Outer Iteration 3: Had 3 CG iterations, trust bound REACHED\n",
      "   -- Obj.Reduction:  Actual = 1.713562033175549,  Predicted = 1.7135324691512408  (A/P: 1.0),  Trust Delta = 0.0016460375001242998\n",
      "   -- New Objective = 23494.95285992722,  Beta Change Norm = 4.1150937503107494E-4,  Gradient Norm = 4377.783731477952\n",
      "Termination / Convergence condition satisfied.\n",
      "BEGIN MULTINOMIAL LOGISTIC REGRESSION SCRIPT\n",
      "Reading X...\n",
      "Reading Y...\n",
      "-- Initially:  Objective = 28068.301929594425,  Gradient Norm = 2.2008280854388464E7,  Trust Delta = 0.001024586722033724\n",
      "-- Outer Iteration 1: Had 1 CG iterations\n",
      "   -- Obj.Reduction:  Actual = 4521.5571007743165,  Predicted = 4353.477350256252  (A/P: 1.0386),  Trust Delta = 4.115093750310832E-4\n",
      "   -- New Objective = 23546.74482882011,  Beta Change Norm = 3.9562175519839977E-4,  Gradient Norm = 1690157.6265701307\n",
      " \n",
      "-- Outer Iteration 2: Had 2 CG iterations\n",
      "   -- Obj.Reduction:  Actual = 50.078406859811366,  Predicted = 49.27363093448139  (A/P: 1.0163),  Trust Delta = 4.115093750310832E-4\n",
      "   -- New Objective = 23496.666421960297,  Beta Change Norm = 9.95139115196827E-5,  Gradient Norm = 39531.08806079287\n",
      " \n",
      "-- Outer Iteration 3: Had 3 CG iterations, trust bound REACHED\n",
      "   -- Obj.Reduction:  Actual = 1.7135620332628605,  Predicted = 1.7135324692362848  (A/P: 1.0),  Trust Delta = 0.0016460375001243327\n",
      "   -- New Objective = 23494.952859927034,  Beta Change Norm = 4.1150937503108324E-4,  Gradient Norm = 4377.783731910873\n",
      " \n",
      "-- Outer Iteration 4: Had 3 CG iterations, trust bound REACHED\n",
      "   -- Obj.Reduction:  Actual = 6.515978371469828,  Predicted = 6.516071806346463  (A/P: 1.0),  Trust Delta = 0.006584150000497331\n",
      "   -- New Objective = 23488.436881555564,  Beta Change Norm = 0.0016460375001243327,  Gradient Norm = 22530.09464953827\n",
      " \n",
      "-- Outer Iteration 5: Had 3 CG iterations, trust bound REACHED\n",
      "   -- Obj.Reduction:  Actual = 23.357760121078172,  Predicted = 23.356032099073573  (A/P: 1.0001),  Trust Delta = 0.026336600001989324\n",
      "   -- New Objective = 23465.079121434486,  Beta Change Norm = 0.006584150000497334,  Gradient Norm = 4261.067249175509\n",
      " \n",
      "-- Outer Iteration 6: Had 3 CG iterations, trust bound REACHED\n",
      "   -- Obj.Reduction:  Actual = 58.82053086119413,  Predicted = 58.78026637843771  (A/P: 1.0007),  Trust Delta = 0.04125186841343804\n",
      "   -- New Objective = 23406.258590573292,  Beta Change Norm = 0.026336600001989324,  Gradient Norm = 29870.85806068946\n",
      " \n",
      "-- Outer Iteration 7: Had 2 CG iterations\n",
      "   -- Obj.Reduction:  Actual = 0.013243511715700151,  Predicted = 0.01323968827710332  (A/P: 1.0003),  Trust Delta = 0.04125186841343804\n",
      "   -- New Objective = 23406.245347061576,  Beta Change Norm = 1.4355035204434051E-6,  Gradient Norm = 1450.1572666888264\n",
      " \n",
      "-- Outer Iteration 8: Had 8 CG iterations, trust bound REACHED\n",
      "   -- Obj.Reduction:  Actual = 26.310435684255935,  Predicted = 26.258666649818014  (A/P: 1.002),  Trust Delta = 0.04144585880172473\n",
      "   -- New Objective = 23379.93491137732,  Beta Change Norm = 0.04125186841343804,  Gradient Norm = 27982.0829606288\n",
      " \n",
      "-- Outer Iteration 9: Had 2 CG iterations\n",
      "   -- Obj.Reduction:  Actual = 0.01127456983886077,  Predicted = 0.011271619577543968  (A/P: 1.0003),  Trust Delta = 0.04144585880172473\n",
      "   -- New Objective = 23379.92363680748,  Beta Change Norm = 1.2239279726220899E-6,  Gradient Norm = 256.32789397192613\n",
      " \n",
      "-- Outer Iteration 10: Had 4 CG iterations, trust bound REACHED\n",
      "   -- Obj.Reduction:  Actual = 5.874767811113998,  Predicted = 5.872790722686968  (A/P: 1.0003),  Trust Delta = 0.04657132724518074\n",
      "   -- New Objective = 23374.048868996368,  Beta Change Norm = 0.04144585880172472,  Gradient Norm = 5061.908500303468\n",
      " \n",
      "-- Outer Iteration 11: Had 4 CG iterations\n",
      "   -- Obj.Reduction:  Actual = 3.6855197795266577,  Predicted = 3.68958827169816  (A/P: 0.9989),  Trust Delta = 0.04657132724518074\n",
      "   -- New Objective = 23370.36334921684,  Beta Change Norm = 0.01039727955387202,  Gradient Norm = 3945.1581376519243\n",
      " \n",
      "-- Outer Iteration 12: Had 1 CG iterations\n",
      "   -- Obj.Reduction:  Actual = 1.8527096835896373E-4,  Predicted = 1.852641763026472E-4  (A/P: 1.0),  Trust Delta = 0.04657132724518074\n",
      "   -- New Objective = 23370.363163945873,  Beta Change Norm = 9.391977195262065E-8,  Gradient Norm = 365.44222819576885\n",
      " \n",
      "-- Outer Iteration 13: Had 5 CG iterations, trust bound REACHED\n",
      "   -- Obj.Reduction:  Actual = 7.069877426645689,  Predicted = 7.083195995321437  (A/P: 0.9981),  Trust Delta = 0.05259822960103651\n",
      "   -- New Objective = 23363.293286519227,  Beta Change Norm = 0.04657132724518074,  Gradient Norm = 159542.54848439267\n",
      " \n",
      "-- Outer Iteration 14: Had 1 CG iterations\n",
      "   -- Obj.Reduction:  Actual = 0.30007710364589,  Predicted = 0.2996359846505045  (A/P: 1.0015),  Trust Delta = 0.05259822960103651\n",
      "   -- New Objective = 23362.99320941558,  Beta Change Norm = 3.756189022890237E-6,  Gradient Norm = 592.3132241356124\n",
      " \n",
      "-- Outer Iteration 15: Had 8 CG iterations, trust bound REACHED\n",
      "   -- Obj.Reduction:  Actual = 10.182891345502867,  Predicted = 10.19612970852087  (A/P: 0.9987),  Trust Delta = 0.0600442044376204\n",
      "   -- New Objective = 23352.81031807008,  Beta Change Norm = 0.05259822960103651,  Gradient Norm = 98019.34809522257\n",
      " \n",
      "-- Outer Iteration 16: Had 2 CG iterations\n",
      "   -- Obj.Reduction:  Actual = 1.1306533343849878,  Predicted = 1.1297594766307562  (A/P: 1.0008),  Trust Delta = 0.0600442044376204\n",
      "   -- New Objective = 23351.679664735693,  Beta Change Norm = 2.3125447115599925E-5,  Gradient Norm = 1449.9025346225837\n",
      " \n",
      "-- Outer Iteration 17: Had 8 CG iterations, trust bound REACHED\n",
      "   -- Obj.Reduction:  Actual = 11.011444450228737,  Predicted = 10.997412469977396  (A/P: 1.0013),  Trust Delta = 0.08338535926878847\n",
      "   -- New Objective = 23340.668220285464,  Beta Change Norm = 0.0600442044376204,  Gradient Norm = 32875.026037958436\n",
      " \n",
      "-- Outer Iteration 18: Had 2 CG iterations\n",
      "   -- Obj.Reduction:  Actual = 0.12399191490840167,  Predicted = 0.12394392394293129  (A/P: 1.0004),  Trust Delta = 0.08338535926878847\n",
      "   -- New Objective = 23340.544228370556,  Beta Change Norm = 7.666355780938733E-6,  Gradient Norm = 443.7068227930361\n",
      " \n",
      "-- Outer Iteration 19: Had 8 CG iterations, trust bound REACHED\n",
      "   -- Obj.Reduction:  Actual = 13.210415277262655,  Predicted = 13.225969256176192  (A/P: 0.9988),  Trust Delta = 0.1067280007964654\n",
      "   -- New Objective = 23327.333813093293,  Beta Change Norm = 0.08338535926878847,  Gradient Norm = 155343.76409820505\n",
      " \n",
      "-- Outer Iteration 20: Had 2 CG iterations\n",
      "   -- Obj.Reduction:  Actual = 2.8669801653159084,  Predicted = 2.869870600495608  (A/P: 0.999),  Trust Delta = 0.1067280007964654\n",
      "   -- New Objective = 23324.466832927978,  Beta Change Norm = 3.701439986237937E-5,  Gradient Norm = 3385.7184450290133\n",
      " \n",
      "-- Outer Iteration 21: Had 3 CG iterations\n",
      "   -- Obj.Reduction:  Actual = 1.4485849598677305,  Predicted = 1.4470360830377098  (A/P: 1.0011),  Trust Delta = 0.1067280007964654\n",
      "   -- New Objective = 23323.01824796811,  Beta Change Norm = 0.006257074801278298,  Gradient Norm = 1561.2389528191736\n",
      " \n",
      "-- Outer Iteration 22: Had 8 CG iterations, trust bound REACHED\n",
      "   -- Obj.Reduction:  Actual = 10.686371541258268,  Predicted = 10.66249932531642  (A/P: 1.0022),  Trust Delta = 0.11336566079070792\n",
      "   -- New Objective = 23312.33187642685,  Beta Change Norm = 0.1067280007964654,  Gradient Norm = 152030.1339393188\n",
      " \n",
      "-- Outer Iteration 23: Had 2 CG iterations\n",
      "   -- Obj.Reduction:  Actual = 2.7461154573429667,  Predicted = 2.743130892033737  (A/P: 1.0011),  Trust Delta = 0.11336566079070792\n",
      "   -- New Objective = 23309.58576096951,  Beta Change Norm = 3.6161865168369876E-5,  Gradient Norm = 3261.272016176343\n",
      " \n",
      "-- Outer Iteration 24: Had 3 CG iterations\n",
      "   -- Obj.Reduction:  Actual = 4.495793278074416,  Predicted = 4.505553554940822  (A/P: 0.9978),  Trust Delta = 0.11336566079070792\n",
      "   -- New Objective = 23305.089967691434,  Beta Change Norm = 0.016266399976700985,  Gradient Norm = 4770.214434447456\n",
      " \n",
      "-- Outer Iteration 25: Had 1 CG iterations\n",
      "   -- Obj.Reduction:  Actual = 2.7043119916925207E-4,  Predicted = 2.7041922977231396E-4  (A/P: 1.0),  Trust Delta = 0.11336566079070792\n",
      "   -- New Objective = 23305.089697260235,  Beta Change Norm = 1.1337822795533807E-7,  Gradient Norm = 351.2103814427445\n",
      " \n",
      "-- Outer Iteration 26: Had 5 CG iterations, trust bound REACHED\n",
      "   -- Obj.Reduction:  Actual = 10.727634847859008,  Predicted = 10.781343163522054  (A/P: 0.995),  Trust Delta = 0.1300078905441366\n",
      "   -- New Objective = 23294.362062412376,  Beta Change Norm = 0.11336566079070795,  Gradient Norm = 274043.8562867291\n",
      " \n",
      "-- Outer Iteration 27: Had 1 CG iterations\n",
      "   -- Obj.Reduction:  Actual = 0.883029131735384,  Predicted = 0.8808166612099411  (A/P: 1.0025),  Trust Delta = 0.1300078905441366\n",
      "   -- New Objective = 23293.47903328064,  Beta Change Norm = 6.428289786495721E-6,  Gradient Norm = 1186.00579237602\n",
      " \n",
      "-- Outer Iteration 28: Had 8 CG iterations, trust bound REACHED\n",
      "   -- Obj.Reduction:  Actual = 15.336178394678427,  Predicted = 15.341842446385012  (A/P: 0.9996),  Trust Delta = 0.14278789797214853\n",
      "   -- New Objective = 23278.142854885962,  Beta Change Norm = 0.1300078905441366,  Gradient Norm = 45701.127154316535\n",
      " \n",
      "-- Outer Iteration 29: Had 2 CG iterations\n",
      "   -- Obj.Reduction:  Actual = 0.22962777529392042,  Predicted = 0.22961486482573198  (A/P: 1.0001),  Trust Delta = 0.14278789797214853\n",
      "   -- New Objective = 23277.91322711067,  Beta Change Norm = 1.0442813424436617E-5,  Gradient Norm = 1042.9537894738035\n",
      " \n",
      "-- Outer Iteration 30: Had 8 CG iterations, trust bound REACHED\n",
      "   -- Obj.Reduction:  Actual = 15.99832900794354,  Predicted = 15.988538064894719  (A/P: 1.0006),  Trust Delta = 0.17018281198847737\n",
      "   -- New Objective = 23261.914898102725,  Beta Change Norm = 0.14278789797214853,  Gradient Norm = 117086.92333257866\n",
      " \n",
      "-- Outer Iteration 31: Had 2 CG iterations\n",
      "   -- Obj.Reduction:  Actual = 1.628559313587175,  Predicted = 1.6294987012439242  (A/P: 0.9994),  Trust Delta = 0.17018281198847737\n",
      "   -- New Objective = 23260.286338789138,  Beta Change Norm = 2.797491356681191E-5,  Gradient Norm = 1931.2850089464737\n",
      " \n",
      "-- Outer Iteration 32: Had 4 CG iterations\n",
      "   -- Obj.Reduction:  Actual = 2.758233542648668,  Predicted = 2.7562363713598783  (A/P: 1.0007),  Trust Delta = 0.17018281198847737\n",
      "   -- New Objective = 23257.52810524649,  Beta Change Norm = 0.013676489361942662,  Gradient Norm = 2903.9262812989577\n",
      " \n",
      "-- Outer Iteration 33: Had 1 CG iterations\n",
      "   -- Obj.Reduction:  Actual = 1.0013761129812337E-4,  Predicted = 1.0013492144119006E-4  (A/P: 1.0),  Trust Delta = 0.17018281198847737\n",
      "   -- New Objective = 23257.528005108878,  Beta Change Norm = 6.896519521590515E-8,  Gradient Norm = 121.2976425610875\n",
      " \n",
      "-- Outer Iteration 34: Had 8 CG iterations, trust bound REACHED\n",
      "   -- Obj.Reduction:  Actual = 10.002043164309725,  Predicted = 10.000141051766763  (A/P: 1.0002),  Trust Delta = 0.22868484475027362\n",
      "   -- New Objective = 23247.525961944568,  Beta Change Norm = 0.17018281198847737,  Gradient Norm = 11067.707451220891\n",
      " \n",
      "-- Outer Iteration 35: Had 2 CG iterations\n",
      "   -- Obj.Reduction:  Actual = 0.010372904645919334,  Predicted = 0.010370411190527918  (A/P: 1.0002),  Trust Delta = 0.22868484475027362\n",
      "   -- New Objective = 23247.515589039922,  Beta Change Norm = 2.189729426840813E-6,  Gradient Norm = 519.4676830827556\n",
      " \n",
      "-- Outer Iteration 36: Had 8 CG iterations, trust bound REACHED\n",
      "   -- Obj.Reduction:  Actual = 15.869892303580855,  Predicted = 15.858741446731258  (A/P: 1.0007),  Trust Delta = 0.37081409432593326\n",
      "   -- New Objective = 23231.64569673634,  Beta Change Norm = 0.22868484475027365,  Gradient Norm = 8621.198861103581\n",
      " \n",
      "-- Outer Iteration 37: Had 2 CG iterations\n",
      "   -- Obj.Reduction:  Actual = 0.0026345369406044483,  Predicted = 0.0026342024965879712  (A/P: 1.0001),  Trust Delta = 0.37081409432593326\n",
      "   -- New Objective = 23231.6430621994,  Beta Change Norm = 9.843621114082563E-7,  Gradient Norm = 42.10271363223035\n",
      " \n",
      "-- Outer Iteration 38: Had 9 CG iterations, trust bound REACHED\n",
      "   -- Obj.Reduction:  Actual = 7.462909607664187,  Predicted = 7.3762264871453365  (A/P: 1.0118),  Trust Delta = 0.37697974232081977\n",
      "   -- New Objective = 23224.180152591736,  Beta Change Norm = 0.37081409432593326,  Gradient Norm = 5465.252803648952\n",
      " \n",
      "-- Outer Iteration 39: Had 2 CG iterations\n",
      "   -- Obj.Reduction:  Actual = 5.875901952094864E-4,  Predicted = 5.87628926403623E-4  (A/P: 0.9999),  Trust Delta = 0.37697974232081977\n",
      "   -- New Objective = 23224.17956500154,  Beta Change Norm = 3.7410389516800744E-7,  Gradient Norm = 4.234973048310276\n",
      "Termination / Convergence condition satisfied.\n",
      "BEGIN MULTINOMIAL LOGISTIC REGRESSION SCRIPT\n",
      "Reading X...\n",
      "Reading Y...\n",
      "-- Initially:  Objective = 28127.91258712258,  Gradient Norm = 2.229001707212536E7,  Trust Delta = 0.001024586722033724\n",
      "-- Outer Iteration 1: Had 1 CG iterations\n",
      "   -- Obj.Reduction:  Actual = 4604.784469578324,  Predicted = 4430.878316370611  (A/P: 1.0392),  Trust Delta = 4.138075697439081E-4\n",
      "   -- New Objective = 23523.128117544256,  Beta Change Norm = 3.9756616623785526E-4,  Gradient Norm = 1743713.0158027797\n",
      "Termination / Convergence condition satisfied.\n",
      "BEGIN MULTINOMIAL LOGISTIC REGRESSION SCRIPT\n",
      "Reading X...\n",
      "Reading Y...\n",
      "-- Initially:  Objective = 28127.91258712258,  Gradient Norm = 2.229001707212536E7,  Trust Delta = 0.001024586722033724\n",
      "-- Outer Iteration 1: Had 1 CG iterations\n",
      "   -- Obj.Reduction:  Actual = 4604.784469587332,  Predicted = 4430.878316378435  (A/P: 1.0392),  Trust Delta = 4.1380756974472403E-4\n",
      "   -- New Objective = 23523.12811753525,  Beta Change Norm = 3.9756616623855723E-4,  Gradient Norm = 1743713.0158109036\n",
      " \n",
      "-- Outer Iteration 2: Had 2 CG iterations\n",
      "   -- Obj.Reduction:  Actual = 54.732731059026264,  Predicted = 53.80377339765103  (A/P: 1.0173),  Trust Delta = 4.1380756974472403E-4\n",
      "   -- New Objective = 23468.395386476222,  Beta Change Norm = 1.0578847614435979E-4,  Gradient Norm = 43160.544907414675\n",
      " \n",
      "-- Outer Iteration 3: Had 2 CG iterations\n",
      "   -- Obj.Reduction:  Actual = 0.04231946465006331,  Predicted = 0.04229528495060039  (A/P: 1.0006),  Trust Delta = 4.1380756974472403E-4\n",
      "   -- New Objective = 23468.353067011572,  Beta Change Norm = 3.5299708667380516E-6,  Gradient Norm = 3706.4889181068334\n",
      "Termination / Convergence condition satisfied.\n",
      "BEGIN MULTINOMIAL LOGISTIC REGRESSION SCRIPT\n",
      "Reading X...\n",
      "Reading Y...\n",
      "-- Initially:  Objective = 28127.91258712258,  Gradient Norm = 2.229001707212536E7,  Trust Delta = 0.001024586722033724\n",
      "-- Outer Iteration 1: Had 1 CG iterations\n",
      "   -- Obj.Reduction:  Actual = 4604.784469587423,  Predicted = 4430.878316378514  (A/P: 1.0392),  Trust Delta = 4.1380756974473227E-4\n",
      "   -- New Objective = 23523.128117535158,  Beta Change Norm = 3.975661662385643E-4,  Gradient Norm = 1743713.0158109819\n",
      " \n",
      "-- Outer Iteration 2: Had 2 CG iterations\n",
      "   -- Obj.Reduction:  Actual = 54.73273105903354,  Predicted = 53.803773397659526  (A/P: 1.0173),  Trust Delta = 4.1380756974473227E-4\n",
      "   -- New Objective = 23468.395386476124,  Beta Change Norm = 1.057884761443809E-4,  Gradient Norm = 43160.54490744401\n",
      " \n",
      "-- Outer Iteration 3: Had 2 CG iterations\n",
      "   -- Obj.Reduction:  Actual = 0.04231946465370129,  Predicted = 0.04229528495067019  (A/P: 1.0006),  Trust Delta = 4.1380756974473227E-4\n",
      "   -- New Objective = 23468.35306701147,  Beta Change Norm = 3.529970866741625E-6,  Gradient Norm = 3706.4889181133212\n",
      " \n",
      "-- Outer Iteration 4: Had 3 CG iterations, trust bound REACHED\n",
      "   -- Obj.Reduction:  Actual = 1.43539903506462,  Predicted = 1.4354136780973317  (A/P: 1.0),  Trust Delta = 0.001655230278978929\n",
      "   -- New Objective = 23466.917667976406,  Beta Change Norm = 4.1380756974473227E-4,  Gradient Norm = 23847.70778955438\n",
      " \n",
      "-- Outer Iteration 5: Had 3 CG iterations, trust bound REACHED\n",
      "   -- Obj.Reduction:  Actual = 5.7001184199725685,  Predicted = 5.700030488081984  (A/P: 1.0),  Trust Delta = 0.006620921115915716\n",
      "   -- New Objective = 23461.217549556433,  Beta Change Norm = 0.0016552302789789293,  Gradient Norm = 3511.0848798450324\n",
      " \n",
      "-- Outer Iteration 6: Had 3 CG iterations, trust bound REACHED\n",
      "   -- Obj.Reduction:  Actual = 20.2795403389282,  Predicted = 20.279663898935546  (A/P: 1.0),  Trust Delta = 0.026483684463662865\n",
      "   -- New Objective = 23440.938009217505,  Beta Change Norm = 0.006620921115915716,  Gradient Norm = 12554.367398823673\n",
      " \n",
      "-- Outer Iteration 7: Had 3 CG iterations, trust bound REACHED\n",
      "   -- Obj.Reduction:  Actual = 46.67968070060306,  Predicted = 46.638249713707694  (A/P: 1.0009),  Trust Delta = 0.03560182167975861\n",
      "   -- New Objective = 23394.258328516902,  Beta Change Norm = 0.026483684463662865,  Gradient Norm = 29877.635812064218\n",
      " \n",
      "-- Outer Iteration 8: Had 1 CG iterations\n",
      "   -- Obj.Reduction:  Actual = 0.010487213545275154,  Predicted = 0.010484276347384039  (A/P: 1.0003),  Trust Delta = 0.03560182167975861\n",
      "   -- New Objective = 23394.247841303357,  Beta Change Norm = 7.01814321141877E-7,  Gradient Norm = 1239.4954942171976\n",
      " \n",
      "-- Outer Iteration 9: Had 8 CG iterations, trust bound REACHED\n",
      "   -- Obj.Reduction:  Actual = 17.351026951935637,  Predicted = 17.33643307510852  (A/P: 1.0008),  Trust Delta = 0.03684837663631749\n",
      "   -- New Objective = 23376.89681435142,  Beta Change Norm = 0.03560182167975861,  Gradient Norm = 17797.528027905493\n",
      " \n",
      "-- Outer Iteration 10: Had 2 CG iterations\n",
      "   -- Obj.Reduction:  Actual = 0.0051839561347151175,  Predicted = 0.0051822317066073835  (A/P: 1.0003),  Trust Delta = 0.03684837663631749\n",
      "   -- New Objective = 23376.891630395286,  Beta Change Norm = 9.65754411804401E-7,  Gradient Norm = 247.94311369754487\n",
      " \n",
      "-- Outer Iteration 11: Had 4 CG iterations, trust bound REACHED\n",
      "   -- Obj.Reduction:  Actual = 6.120764635852538,  Predicted = 6.120603820420303  (A/P: 1.0),  Trust Delta = 0.06123856175576343\n",
      "   -- New Objective = 23370.770865759434,  Beta Change Norm = 0.03684837663631749,  Gradient Norm = 2903.8191171724475\n",
      " \n",
      "-- Outer Iteration 12: Had 8 CG iterations, trust bound REACHED\n",
      "   -- Obj.Reduction:  Actual = 11.839817405674694,  Predicted = 11.835994531349218  (A/P: 1.0003),  Trust Delta = 0.10077392673829123\n",
      "   -- New Objective = 23358.93104835376,  Beta Change Norm = 0.061238561755763435,  Gradient Norm = 45444.004224872515\n",
      " \n",
      "-- Outer Iteration 13: Had 2 CG iterations\n",
      "   -- Obj.Reduction:  Actual = 0.23956910612469073,  Predicted = 0.23947707580766775  (A/P: 1.0004),  Trust Delta = 0.10077392673829123\n",
      "   -- New Objective = 23358.691479247635,  Beta Change Norm = 1.0604463770870957E-5,  Gradient Norm = 455.60549643116576\n",
      " \n",
      "-- Outer Iteration 14: Had 7 CG iterations, trust bound REACHED\n",
      "   -- Obj.Reduction:  Actual = 18.328051503107417,  Predicted = 18.331799977531986  (A/P: 0.9998),  Trust Delta = 0.22354713501055282\n",
      "   -- New Objective = 23340.363427744527,  Beta Change Norm = 0.10077392673829125,  Gradient Norm = 9681.364961117553\n",
      " \n",
      "-- Outer Iteration 15: Had 2 CG iterations\n",
      "   -- Obj.Reduction:  Actual = 0.007699103061895585,  Predicted = 0.007697546594020487  (A/P: 1.0002),  Trust Delta = 0.22354713501055282\n",
      "   -- New Objective = 23340.355728641465,  Beta Change Norm = 1.8760263071214837E-6,  Gradient Norm = 919.178357422508\n",
      " \n",
      "-- Outer Iteration 16: Had 8 CG iterations, trust bound REACHED\n",
      "   -- Obj.Reduction:  Actual = 35.962275626243354,  Predicted = 35.96905329967768  (A/P: 0.9998),  Trust Delta = 0.6329928033007739\n",
      "   -- New Objective = 23304.393453015222,  Beta Change Norm = 0.2235471350105528,  Gradient Norm = 8357.912910435487\n",
      " \n",
      "-- Outer Iteration 17: Had 2 CG iterations\n",
      "   -- Obj.Reduction:  Actual = 0.00109045063436497,  Predicted = 0.0010902872057898998  (A/P: 1.0001),  Trust Delta = 0.6329928033007739\n",
      "   -- New Objective = 23304.392362564588,  Beta Change Norm = 4.2651114350357103E-7,  Gradient Norm = 251.3439932124999\n",
      " \n",
      "-- Outer Iteration 18: Had 8 CG iterations, trust bound REACHED\n",
      "   -- Obj.Reduction:  Actual = 57.376697773350315,  Predicted = 57.56319967234444  (A/P: 0.9968),  Trust Delta = 0.8850741351442423\n",
      "   -- New Objective = 23247.015664791237,  Beta Change Norm = 0.632992803300774,  Gradient Norm = 34572.98314876805\n",
      " \n",
      "-- Outer Iteration 19: Had 2 CG iterations\n",
      "   -- Obj.Reduction:  Actual = 0.022895778267411515,  Predicted = 0.022886284476429188  (A/P: 1.0004),  Trust Delta = 0.8850741351442423\n",
      "   -- New Objective = 23246.99276901297,  Beta Change Norm = 2.2920636089423485E-6,  Gradient Norm = 207.78450271753704\n",
      " \n",
      "-- Outer Iteration 20: Had 10 CG iterations\n",
      "   -- Obj.Reduction:  Actual = 13.7801674709699,  Predicted = 13.650241856993508  (A/P: 1.0095),  Trust Delta = 0.8850741351442423\n",
      "   -- New Objective = 23233.212601542,  Beta Change Norm = 0.4760927623239202,  Gradient Norm = 15560.702220926114\n",
      " \n",
      "-- Outer Iteration 21: Had 1 CG iterations\n",
      "   -- Obj.Reduction:  Actual = 0.0028817309030273464,  Predicted = 0.002881302268545107  (A/P: 1.0001),  Trust Delta = 0.8850741351442423\n",
      "   -- New Objective = 23233.209719811097,  Beta Change Norm = 3.7033062231218796E-7,  Gradient Norm = 966.6103310071384\n",
      " \n",
      "-- Outer Iteration 22: Had 2 CG iterations\n",
      "   -- Obj.Reduction:  Actual = 1.1074612848460674E-4,  Predicted = 1.1074572559513111E-4  (A/P: 1.0),  Trust Delta = 0.8850741351442423\n",
      "   -- New Objective = 23233.20960906497,  Beta Change Norm = 2.295403231457082E-7,  Gradient Norm = 13.074188124579043\n",
      "Termination / Convergence condition satisfied.\n",
      "BEGIN MULTINOMIAL LOGISTIC REGRESSION SCRIPT\n",
      "Reading X...\n",
      "Reading Y...\n",
      "-- Initially:  Objective = 56196.214516717,  Gradient Norm = 4.4298224533061676E7,  Trust Delta = 0.001024586722033724\n",
      "-- Outer Iteration 1: Had 1 CG iterations\n",
      "   -- Obj.Reduction:  Actual = 9126.284435003385,  Predicted = 8784.32020954971  (A/P: 1.0389),  Trust Delta = 4.1266376065806953E-4\n",
      "   -- New Objective = 47069.93008171362,  Beta Change Norm = 3.9659920017758694E-4,  Gradient Norm = 3433643.583203307\n",
      "Termination / Convergence condition satisfied.\n"
     ]
    }
   ],
   "source": [
    "import org.apache.spark.ml.evaluation.BinaryClassificationEvaluator\n",
    "import org.apache.spark.ml.tuning.{ParamGridBuilder, CrossValidator}\n",
    "\n",
    "val crossval = new CrossValidator().setEstimator(pipeline).setEvaluator(new BinaryClassificationEvaluator)\n",
    "val paramGrid = new ParamGridBuilder().addGrid(lr.regParam, Array(0.1, 1e-3, 1e-6)).build()\n",
    "crossval.setEstimatorParamMaps(paramGrid)\n",
    "crossval.setNumFolds(2) // Setting k = 2\n",
    "val cvmodel = crossval.fit(trainDataset)"
   ]
  },
  {
   "cell_type": "markdown",
   "metadata": {},
   "source": [
    "### Evaluate the cross-validated model"
   ]
  },
  {
   "cell_type": "code",
   "execution_count": 14,
   "metadata": {
    "collapsed": false
   },
   "outputs": [],
   "source": [
    "val cvpredictions = cvmodel.transform(testDataset.withColumnRenamed(\"label\", \"OriginalLabel\"))\n",
    "cvpredictions.registerTempTable(\"cvpredictions\")\n",
    "sqlContext.sql(\"SELECT sqrt(avg(square(OriginalLabel - prediction))) FROM cvpredictions\").show"
   ]
  }
 ],
 "metadata": {
  "kernelspec": {
   "display_name": "Scala 2.10.4",
   "language": "scala",
   "name": "spark"
  },
  "language_info": {
   "name": "scala"
  },
  "widgets": {
   "state": {},
   "version": "1.1.2"
  }
 },
 "nbformat": 4,
 "nbformat_minor": 0
}
